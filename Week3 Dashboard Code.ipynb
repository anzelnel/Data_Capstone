{
    "cells": [
        {
            "metadata": {
                "collapsed": true
            },
            "cell_type": "code",
            "source": "# Import required libraries\nimport pandas as pd\nimport dash\nimport dash_html_components as html\nimport dash_core_components as dcc\nfrom dash.dependencies import Input, Output\nimport plotly.express as px\n\n# Read the airline data into pandas dataframe\nspacex_df = pd.read_csv(\"spacex_launch_dash.csv\")\nmax_payload = spacex_df['Payload Mass (kg)'].max()\nmin_payload = spacex_df['Payload Mass (kg)'].min()\n\n# Create a dash application\napp = dash.Dash(__name__)\n\n# Create an app layout\napp.layout = html.Div(children=[html.H1('My SpaceX Launch Records Dashboard',\n                                        style={'textAlign': 'center', 'color': '#503D36',\n                                               'font-size': 40}),\n# TASK 1: Add a dropdown list to enable Launch Site selection\n# The default select value is for ALL sites\n# dcc.Dropdown(id='site-dropdown',...)\nhtml.Br(),\ndcc.Dropdown(id='site_dropdown',\n            options=[{'label': 'All Sites', 'value': 'ALL'},\n                    {'label': 'CCAFS LC-40', 'value': 'CCAFS LC-40'},\n                    {'label': 'VAFB SLC-4E', 'value': 'VAFB SLC-4E'},\n                    {'label': 'KSC LC-39A', 'value': 'KSC LC-39A'}],\n            value='ALL', placeholder ='Do select a site', searchable = True),\nhtml.Br(),\n# TASK 2: Add a pie chart to show the total successful launches count for all sites\n# If a specific launch site was selected, show the Success vs. Failed counts for the site\nhtml.Div(dcc.Graph(id='success-pie-chart')),\nhtml.Br(),\n\nhtml.P(\"Payload range (Kg):\"),\n\n# TASK 3: Add a slider to select payload range\n#dcc.RangeSlider(id='payload-slider',...)\ndcc.RangeSlider(id='payload-slider',\n                min=0, max=10000, step=1000,\n                marks={0: '0', 100: '100'},\n                value=[min_payload, max_payload]),\n\n# TASK 4: Add a scatter chart to show the correlation between payload and launch success\nhtml.Div(dcc.Graph(id='success-payload-scatter-chart')),\n        ])\n\n# TASK 4:\n# Add a callback function for `site-dropdown` and `payload-slider` as inputs, `success-payload-scatter-chart` as output\n@app.callback(Output(component_id='success-payload-scatter-chart', component_property='figure'),\n              [Input(component_id='site_dropdown', component_property='value'),\n\t        Input(component_id='payload-slider', component_property='value')])\n\n@app.callback(Output(component_id='success-pie-chart', component_property='figure'),\n              Input(component_id='site_dropdown', component_property='value'))\ndef get_pie_chart(site_dropdown):\n    filtered_df = spacex_df[spacex_df['Launch Site'] == site_dropdown]\n    if site_dropdown == 'ALL':\n        fig = px.pie(spacex_df, values='class', names='Launch Site', title='Successful Lanch')\n        return fig\n    else:\n        filtered_df = spacex_df[spacex_df['Launch Site']==site_dropdown].groupby(['Launch Site', 'class']).size().reset_index(name='class count')\n        fig = px.pie(filtered_df, values = 'class count', names = 'class',\n        title = 'Successful launches by site.')\n        return fig\n\ndef build_scatter(site_dropdown, slider_range):\n    low, high = slider_range\n    mask = (spacex_df['Payload Mass'] > low) & (spacex_df['Payload Mass'] < high)\n    filtered_df = spacex_df[mask]\n    if site_dropdown == 'ALL':\n        fig = px.scatter(spacex_df, x='Payload Mass (kg)', y='class', color='Booster Version Category', \n\ttitle='Payload')\n        return fig\n    else:\n        filtered_df1 = filtered_df['Launch Site']==site_dropdown\n        fig = px.scatter(filtered_df1, x = 'Payload Mass (kg)', y = 'Class', color = 'Booster Version Category',\n        title = 'Payload')\n        return fig\n# Run the app\nif __name__ == '__main__':\n    app.run_server()",
            "execution_count": null,
            "outputs": []
        }
    ],
    "metadata": {
        "kernelspec": {
            "name": "python3",
            "display_name": "Python 3.8",
            "language": "python"
        },
        "language_info": {
            "name": "python",
            "version": "3.8.11",
            "mimetype": "text/x-python",
            "codemirror_mode": {
                "name": "ipython",
                "version": 3
            },
            "pygments_lexer": "ipython3",
            "nbconvert_exporter": "python",
            "file_extension": ".py"
        }
    },
    "nbformat": 4,
    "nbformat_minor": 1
}